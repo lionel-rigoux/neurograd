{
 "cells": [
  {
   "cell_type": "markdown",
   "metadata": {},
   "source": [
    "# 🧪 Lecture: Introduction to Python Notebooks\n",
    "\n",
    "Welcome to this interactive session! This notebook is part of the summer school series for Master's students. Let's get started with a simple example in Python."
   ]
  },
  {
   "cell_type": "code",
   "execution_count": null,
   "metadata": {},
   "outputs": [],
   "source": [
    "# Your first line of Python code\n",
    "print(\"Hello, students!\")"
   ]
  }
 ],
 "metadata": {
  "kernelspec": {
   "display_name": "Python 3",
   "language": "python",
   "name": "python3"
  },
  "language_info": {
   "name": "python",
   "version": ""
  }
 },
 "nbformat": 4,
 "nbformat_minor": 2
}
